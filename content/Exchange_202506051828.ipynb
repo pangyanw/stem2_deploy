{
  "metadata": {
    "kernelspec": {
      "display_name": "Python (Pyodide)",
      "language": "python",
      "name": "python"
    },
    "language_info": {
      "codemirror_mode": {
        "name": "python",
        "version": 3
      },
      "file_extension": ".py",
      "mimetype": "text/x-python",
      "name": "python",
      "nbconvert_exporter": "python",
      "pygments_lexer": "ipython3",
      "version": "3.8"
    }
  },
  "nbformat_minor": 4,
  "nbformat": 4,
  "cells": [
    {
      "cell_type": "markdown",
      "source": "# Exchange (25pts)\n\nAuthor: Joel Chi\n\nAlice needs to match up buyers and sellers of Apples on her Apple exchange.\nHer seller and buyers are very particular and are only willing to make a deal if they can sell/buy the exact quantity they need.\n\nHer exchange recieves buy orders in the form of an integer:",
      "metadata": {
        "editable": false,
        "slideshow": {
          "slide_type": ""
        },
        "tags": []
      }
    },
    {
      "cell_type": "code",
      "source": "buyAmount = 5",
      "metadata": {
        "editable": false,
        "slideshow": {
          "slide_type": ""
        },
        "tags": [],
        "trusted": true
      },
      "outputs": [],
      "execution_count": 1
    },
    {
      "cell_type": "markdown",
      "source": "This means a buyer has entered an order for 5 apples!\n\nHer exchange also has on hand an array of quantities which represents lots available for sale:",
      "metadata": {
        "editable": false,
        "slideshow": {
          "slide_type": ""
        },
        "tags": []
      }
    },
    {
      "cell_type": "code",
      "source": "sellOrders = [5, 2, 4, 2, 5]",
      "metadata": {
        "editable": false,
        "slideshow": {
          "slide_type": ""
        },
        "tags": [],
        "trusted": true
      },
      "outputs": [],
      "execution_count": 2
    },
    {
      "cell_type": "markdown",
      "source": "##### This means that there are 6 sellers, two selling 5 apples, two selling 2 apples and one selling 4 apples.\n\nThe above buyAmount of 5 can be placed by the first sell orders 5 so this function should return true.\n\nbuyAmount = 5\n\nsellOrders = [5, 2, 4, 2, 5]\n\nisFullfilable(5, [5, 2, 4, 2, 5]) == True\n\nLets assume for now that the buyer is only interested in making a exchange with a single seller - if no-one is selling exactly 5 Apples, then no deal can be made.",
      "metadata": {
        "editable": false,
        "slideshow": {
          "slide_type": ""
        },
        "tags": []
      }
    },
    {
      "cell_type": "markdown",
      "source": "When we develop software, it is often good practice to first establish test cases to check if our code is fit for purpose. Try to pass these cases below.",
      "metadata": {
        "editable": false,
        "raw_mimetype": "",
        "slideshow": {
          "slide_type": ""
        },
        "tags": []
      }
    },
    {
      "cell_type": "code",
      "source": "import unittest\n\nclass TestOneToOne(unittest.TestCase):\n    def test_example_case(self):\n        test_buy=5\n        test_sells=[5, 2, 4, 2, 5]\n        expected=True\n        self.assertEqual(isFullfilableOneToOne(test_buy, test_sells), expected)\n    def test_single_entry(self):\n        test_buy=7\n        test_sells=[2, 3, 7, 17, 2]\n        expected=True\n        self.assertEqual(isFullfilableOneToOne(test_buy, test_sells), expected)\n    def test_no_match(self):\n        test_buy=4\n        test_sells=[2, 3, 5, 3, 7]\n        expected=False\n        self.assertEqual(isFullfilableOneToOne(test_buy, test_sells), expected)\n    def test_no_sells(self):\n        test_buy=4\n        test_sells=[]\n        expected=False\n        self.assertEqual(isFullfilableOneToOne(test_buy, test_sells), expected)",
      "metadata": {
        "editable": false,
        "slideshow": {
          "slide_type": ""
        },
        "tags": [],
        "trusted": true
      },
      "outputs": [],
      "execution_count": 3
    },
    {
      "cell_type": "markdown",
      "source": "Implement the following function which returns true if the buy order is fullfilable by a single sell lot in the array.",
      "metadata": {
        "editable": false,
        "slideshow": {
          "slide_type": ""
        },
        "tags": []
      }
    },
    {
      "cell_type": "code",
      "source": "#Modify this!\n\ndef isFullfilableOneToOne(buyAmount, sellOrders):\n    while len(sellOrders) > 0:\n        nextSellOrder = sellOrders.pop(0)\n        if buyAmount == nextSellOrder:\n            return True\n    return False\n\nisFullfilableOneToOne(5, [5, 2, 4, 2, 5])",
      "metadata": {
        "editable": true,
        "slideshow": {
          "slide_type": ""
        },
        "tags": [],
        "trusted": true
      },
      "outputs": [
        {
          "execution_count": 10,
          "output_type": "execute_result",
          "data": {
            "text/plain": "True"
          },
          "metadata": {}
        }
      ],
      "execution_count": 10
    },
    {
      "cell_type": "code",
      "source": "suite = unittest.defaultTestLoader.loadTestsFromTestCase(TestOneToOne)\nresult1 = unittest.TextTestRunner().run(suite)",
      "metadata": {
        "editable": false,
        "slideshow": {
          "slide_type": ""
        },
        "tags": [],
        "trusted": true
      },
      "outputs": [
        {
          "name": "stderr",
          "text": "....\n----------------------------------------------------------------------\nRan 4 tests in 0.001s\n\nOK\n",
          "output_type": "stream"
        }
      ],
      "execution_count": 11
    },
    {
      "cell_type": "markdown",
      "source": "Alice has loosened requirements on her exchange to allow two sellers to combine to fill an order.\n\nbuyAmount = 10\n\nsellOrders = [5, 2, 4, 2, 5]\n\nisFullfilable(10, [5, 2, 4, 2, 5]) == True\n\nIn this example the two sellers with lots of 5 can combine forces to fill the order and sell their apples!\n\nIn another example, the buyAmount cannot be placed as although sellers can combine they cannot split their sell orders, so the function should return false.\n\nbuyAmount = 9\nsellOrders = [5, 5, 3]\n\nisFullfilable(10, [5, 5, 3]) == False",
      "metadata": {
        "editable": false,
        "slideshow": {
          "slide_type": ""
        },
        "tags": []
      }
    },
    {
      "cell_type": "code",
      "source": "class TestOneOrTwo(unittest.TestCase):\n    def test_example_case(self):\n        test_buy=10\n        test_sells=[5, 2, 4, 2, 5]\n        expected=True\n        self.assertEqual(isFullfilableOneOrTwo(test_buy, test_sells), expected)\n    def test_single_entry(self):\n        test_buy=7\n        test_sells=[2, 3, 7, 17, 2]\n        expected=True\n        self.assertEqual(isFullfilableOneOrTwo(test_buy, test_sells), expected)\n    def test_combine_entry(self):\n        test_buy=4\n        test_sells=[2, 3, 5, 1, 7]\n        expected=True\n        self.assertEqual(isFullfilableOneOrTwo(test_buy, test_sells), expected)\n    def test_cannot_split(self):\n        test_buy=6\n        test_sells=[2, 3, 5, 9]\n        expected=False\n        self.assertEqual(isFullfilableOneOrTwo(test_buy, test_sells), expected)",
      "metadata": {
        "editable": false,
        "slideshow": {
          "slide_type": ""
        },
        "tags": [],
        "trusted": true
      },
      "outputs": [],
      "execution_count": 12
    },
    {
      "cell_type": "markdown",
      "source": "Implement the following function which returns true if the buy order is fullfilable by one or two sell orders. Remember that no seller is willing to split their lot!\n\nHint: Is there a way you can use isFullfilableOneToOne() function you completed above inside isFullfilableOneOrTwo() to solve this problem?\n\nHint: You may need find .copy() to be helpful as to not modify the original sellOrders array.\n\nHint: You may find .pop() or .remove() helpful to remove elements in your newly copied array.",
      "metadata": {
        "editable": false,
        "slideshow": {
          "slide_type": ""
        },
        "tags": []
      }
    },
    {
      "cell_type": "code",
      "source": "#Modify this!\n\ndef isFullfilableOneOrTwo(buyAmount, sellOrders):\n    count = 0\n    while buyAmount > 0 and len(sellOrders) > 0:\n        \n    return False\n\nisFullfilableOneOrTwo(6, [2, 3, 5, 9])",
      "metadata": {
        "editable": true,
        "slideshow": {
          "slide_type": ""
        },
        "tags": [],
        "trusted": true
      },
      "outputs": [
        {
          "execution_count": 13,
          "output_type": "execute_result",
          "data": {
            "text/plain": "False"
          },
          "metadata": {}
        }
      ],
      "execution_count": 13
    },
    {
      "cell_type": "code",
      "source": "suite = unittest.defaultTestLoader.loadTestsFromTestCase(TestOneOrTwo)\nresult2 = unittest.TextTestRunner().run(suite)",
      "metadata": {
        "editable": false,
        "slideshow": {
          "slide_type": ""
        },
        "tags": [],
        "trusted": true
      },
      "outputs": [
        {
          "name": "stderr",
          "text": ".FFF\n======================================================================\nFAIL: test_combine_entry (__main__.TestOneOrTwo.test_combine_entry)\n----------------------------------------------------------------------\nTraceback (most recent call last):\n  File \"<ipython-input-12-cbf78e532b9a>\", line 16, in test_combine_entry\n    self.assertEqual(isFullfilableOneOrTwo(test_buy, test_sells), expected)\nAssertionError: False != True\n\n======================================================================\nFAIL: test_example_case (__main__.TestOneOrTwo.test_example_case)\n----------------------------------------------------------------------\nTraceback (most recent call last):\n  File \"<ipython-input-12-cbf78e532b9a>\", line 6, in test_example_case\n    self.assertEqual(isFullfilableOneOrTwo(test_buy, test_sells), expected)\nAssertionError: False != True\n\n======================================================================\nFAIL: test_single_entry (__main__.TestOneOrTwo.test_single_entry)\n----------------------------------------------------------------------\nTraceback (most recent call last):\n  File \"<ipython-input-12-cbf78e532b9a>\", line 11, in test_single_entry\n    self.assertEqual(isFullfilableOneOrTwo(test_buy, test_sells), expected)\nAssertionError: False != True\n\n----------------------------------------------------------------------\nRan 4 tests in 0.001s\n\nFAILED (failures=3)\n",
          "output_type": "stream"
        }
      ],
      "execution_count": 14
    },
    {
      "cell_type": "markdown",
      "source": "In order to drive even more business, Alice has loosened requirements further. Now any number of sellers can combine to fill an order!\n\nbuyAmount = 10\n\nsellOrders = [3, 3, 7, 1, 2]\n\nisFullfilable(10, [3, 3, 7, 1, 2]) == True\n\nAs with before, individual sellers are still unwilling to split their lots.\nCan you help Allice out by fixing the following test cases?",
      "metadata": {
        "editable": false,
        "slideshow": {
          "slide_type": ""
        },
        "tags": []
      }
    },
    {
      "cell_type": "code",
      "source": "class TestOneToMany(unittest.TestCase):\n    def test_example_case(self):\n        test_buy=10\n        test_sells=[3, 3, 7, 1, 2]\n        expected=True\n        self.assertEqual(isFullfilableOneToMany(test_buy, test_sells), expected)\n    def test_too_low(self):\n        test_buy=16\n        test_sells=[5,4,3,2,1]\n        expected=False\n        self.assertEqual(isFullfilableOneToMany(test_buy, test_sells), expected)\n    def test_identical_values(self):\n        test_buy=9\n        test_sells=[3,4,7,3,3,7]\n        expected=True\n        self.assertEqual(isFullfilableOneToMany(test_buy, test_sells), expected)\n    def test_no_sells(self):\n        test_buy=1\n        test_sells=[]\n        expected=False\n        self.assertEqual(isFullfilableOneToMany(test_buy, test_sells), expected)\n    def test_many_sells_but_wrong_shape(self):\n        test_buy=23\n        test_sells=[2, 4, 6, 10, 12, 6, 8]\n        expected=False\n        self.assertEqual(isFullfilableOneToMany(test_buy, test_sells), expected)",
      "metadata": {
        "editable": false,
        "slideshow": {
          "slide_type": ""
        },
        "tags": [],
        "trusted": true
      },
      "outputs": [],
      "execution_count": null
    },
    {
      "cell_type": "markdown",
      "source": "Hint: Is it possible that isFullfilableOneToMany can recursively resolve this problem, by calling *itself* in a way similar to how OneToTwo can be solved by calling OneToOne?",
      "metadata": {
        "editable": false,
        "slideshow": {
          "slide_type": ""
        },
        "tags": []
      }
    },
    {
      "cell_type": "code",
      "source": "#Modify this!\n\ndef isFullfilableOneToMany(buyAmount, sellOrders):\n    return False\n\nisFullfilableOneToMany(10, [3, 3, 7, 1, 2])",
      "metadata": {
        "editable": true,
        "slideshow": {
          "slide_type": ""
        },
        "tags": [],
        "trusted": true
      },
      "outputs": [],
      "execution_count": null
    },
    {
      "cell_type": "code",
      "source": "suite = unittest.defaultTestLoader.loadTestsFromTestCase(TestOneToMany)\nresult3 = unittest.TextTestRunner().run(suite)",
      "metadata": {
        "editable": false,
        "slideshow": {
          "slide_type": ""
        },
        "tags": [],
        "trusted": true
      },
      "outputs": [],
      "execution_count": null
    },
    {
      "cell_type": "markdown",
      "source": "Run below to find your final score:",
      "metadata": {
        "editable": false,
        "slideshow": {
          "slide_type": ""
        },
        "tags": []
      }
    },
    {
      "cell_type": "code",
      "source": "score = 0\n\nif len(result1.errors) + len(result1.failures) == 0:\n    score += 1\nif len(result2.errors) + len(result2.failures) == 0:\n    score += 2\nif len(result3.errors) + len(result3.failures) == 0:\n    score += 3\nelif len(result3.errors) + len(result3.failures) == 1:\n    score += 2\n\nprint(\"Score: \" + str(score) + \"!\")",
      "metadata": {
        "editable": true,
        "slideshow": {
          "slide_type": ""
        },
        "tags": [],
        "trusted": true
      },
      "outputs": [],
      "execution_count": null
    }
  ]
}