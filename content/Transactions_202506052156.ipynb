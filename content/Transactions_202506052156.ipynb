{
  "metadata": {
    "kernelspec": {
      "name": "python",
      "display_name": "Python (Pyodide)",
      "language": "python"
    },
    "language_info": {
      "codemirror_mode": {
        "name": "python",
        "version": 3
      },
      "file_extension": ".py",
      "mimetype": "text/x-python",
      "name": "python",
      "nbconvert_exporter": "python",
      "pygments_lexer": "ipython3",
      "version": "3.8"
    }
  },
  "nbformat_minor": 4,
  "nbformat": 4,
  "cells": [
    {
      "cell_type": "markdown",
      "source": "# Transactions (10pts)\n\nAuthor: Daniel Cheung\n\nThis problem relates to managing client accounts. In the real world, banks keep track of client balances in a \"ledger\", that is to say a huge database of all transaction records, in order to verify a client's current balance.\n\nHere are some Python concepts and keywords relevant to this challenge. Feel free to look them up for more information.\n\n- List manipulation\n- Dictionary manipulation\n- Tuples\n- Tuple unpacking\n- String modulo operator/printf-style string formatting\n- String escape sequence `\\n`\n\n## 1. Simple transactions\n\nLet's start off simple to try manage some basic numbers, get the current balance of a client assuming we have a list of deposits/withdrawals. We also assume the **account balance can also go into negative**. In that case, the account is said to have been overdrawn and the bank temporarily lends money for the client. (In the real world, only some account tiers/banks allow current account overdrafts.)\n\nComplete the following code.",
      "metadata": {
        "tags": [],
        "editable": true,
        "slideshow": {
          "slide_type": ""
        }
      }
    },
    {
      "cell_type": "code",
      "source": "# single_client_transactions = [10, -50, 40, -20, 40]\nsingle_client_transactions = []\nstarting_balance = 0\n\n\"\"\"\nGet the final balance of the account.\n\"\"\"\ndef get_balance(transactions, starting_balance):\n    cloned_transactions = transactions.copy()\n    balance = starting_balance\n    while len(cloned_transactions) > 0:\n        balance = balance + cloned_transactions.pop(0)\n    return balance\n\n\"\"\"\nGet whether the account had a negative balance at some point in time.\n\"\"\"\ndef has_overdraft_occurred(transactions, starting_balance):\n    cloned_transactions = transactions.copy()\n    balance = starting_balance\n    while len(cloned_transactions) > 0:\n        balance = balance + cloned_transactions.pop(0)\n        # print(balance)\n        if balance < 0:\n            return True\n    return False\n\nprint(\"Current balance:\")\nprint(get_balance(single_client_transactions, starting_balance)) # 20\nprint(\"The account overdrew at one point:\")\nprint(has_overdraft_occurred(single_client_transactions, starting_balance)) # True",
      "metadata": {
        "trusted": true,
        "tags": [],
        "editable": true,
        "slideshow": {
          "slide_type": ""
        }
      },
      "outputs": [
        {
          "name": "stdout",
          "text": "Current balance:\n0\nThe account overdrew at one point:\nFalse\n",
          "output_type": "stream"
        }
      ],
      "execution_count": 6
    },
    {
      "cell_type": "markdown",
      "source": "## 2. Multiple clients\n\nLet's move on to handling more clients.\n\n### a) Extracting account-specific transactions\n\nLet's say the bank has some centralized ledger storing the list of transactions of the day. Try to determine the balances of our clients. Assume the **payee and recipient cannot be the same**.",
      "metadata": {
        "tags": [],
        "editable": true,
        "slideshow": {
          "slide_type": ""
        }
      }
    },
    {
      "cell_type": "code",
      "source": "# Here we define a list of tuples representing transactions\nmulti_client_transactions = [\n    # Payee, recipient, amount\n    (\"Mary\", \"Ben\", 20),\n    (\"Ben\", \"Mary\", 10),\n    (\"Conny\", \"Mary\", 40)\n]\n\nstarting_balances = {\n    \"Ben\": 100,\n    \"Conny\": 30,\n    \"Mary\": 30\n}\n\n\"\"\"\nGet a list of transactions in the form in part 1.\n\"\"\"\ndef get_single_client_transactions(multi_transactions, client):\n    transactions = []\n\n    for payee, recipient, amount in multi_transactions:\n        if payee == client:\n            transactions.append(-amount)  # Negative for payee\n        elif recipient == client:\n            transactions.append(amount)  # Positive for recipient\n\n    return transactions\n\nmary_transactions = get_single_client_transactions(multi_client_transactions, \"Mary\")\nben_transactions = get_single_client_transactions(multi_client_transactions, \"Ben\")\n\nprint(\"Mary's balance at the end:\")\nprint(get_balance(mary_transactions, starting_balances[\"Mary\"])) # 60\nprint(\"Mary has overdrew:\")\nprint(has_overdraft_occurred(mary_transactions, starting_balances[\"Mary\"])) # False\nprint(\"Ben's balance at the end:\")\nprint(get_balance(ben_transactions, starting_balances[\"Ben\"])) # 110\nprint(\"Ben has overdrew:\")\nprint(has_overdraft_occurred(ben_transactions, starting_balances[\"Ben\"])) # False",
      "metadata": {
        "trusted": true,
        "tags": [],
        "editable": true,
        "slideshow": {
          "slide_type": ""
        }
      },
      "outputs": [
        {
          "name": "stdout",
          "text": "Mary's balance at the end:\n60\nMary has overdrew:\nFalse\nBen's balance at the end:\n110\nBen has overdrew:\nFalse\n",
          "output_type": "stream"
        }
      ],
      "execution_count": 2
    },
    {
      "cell_type": "markdown",
      "source": "### b) More automation\n\nIt may get tedious manually writing `get_balance()` per client in our bank. Let's print them in a **for-loop**. Use `starting_balances.keys()` to get all the account names in a list. Printing in the order of keys of `starting_balances` is fine.",
      "metadata": {
        "tags": [],
        "editable": true,
        "slideshow": {
          "slide_type": ""
        }
      }
    },
    {
      "cell_type": "code",
      "source": "# Try this out\n# s = \"| %-10s | %10s | %-12s |\\n\" % (\"Client\", \"Balance\", \"Overdraft?  \")\n# s = s + \"| %-10s | %10d | %-12s |\\n\" % (\"John\", 0, False)\n# print(s)\n\n\"\"\"\nGet a formatted table in string to summarize client balances given their accounts and starting balances in `starting_balances`\n\"\"\"\ndef get_accounts_summary(multi_client_transactions, starting_balances):\n    s = \"| %-10s | %10s | %-12s |\\n\" % (\"Client\", \"Balance\", \"Overdraft?  \")\n    for client in starting_balances.keys():\n        transactions = get_single_client_transactions(multi_client_transactions, client)\n        s = s + \"| %-10s | %10d | %-12s |\\n\" % (client, get_balance(transactions, starting_balances[client]), has_overdraft_occurred(transactions, starting_balances[client]))\n    return s\n\nprint(get_accounts_summary(multi_client_transactions, starting_balances))\n\n# | Client     |    Balance | Overdraft?   |\n# | Ben        |        110 | False        |\n# | Conny      |        -10 | True         |\n# | Mary       |         60 | False        |",
      "metadata": {
        "trusted": true,
        "tags": [],
        "editable": true,
        "slideshow": {
          "slide_type": ""
        },
        "scrolled": true
      },
      "outputs": [
        {
          "name": "stdout",
          "text": "| Client     |    Balance | Overdraft?   |\n| Ben        |        110 | False        |\n| Conny      |        -10 | True         |\n| Mary       |         60 | False        |\n\n",
          "output_type": "stream"
        }
      ],
      "execution_count": 3
    },
    {
      "cell_type": "markdown",
      "source": "## 3. Account analytics\n\nOnline banking nowadays offer basic analytics to clients to help them better manage their finances. Let's try to display the debits (money going out) and credits (money going in) of the accounts.\n\nFeel free to create additional helper functions if you wish.",
      "metadata": {
        "tags": [],
        "editable": true,
        "slideshow": {
          "slide_type": ""
        }
      }
    },
    {
      "cell_type": "code",
      "source": "\"\"\"\nGet a formatted table with even more information to summarize the accounts of our clients.\n\"\"\"\ndef calculate_sums(transactions):\n    positive_sum = sum(x for x in transactions if x > 0)\n    negative_sum = sum(x for x in transactions if x < 0)\n    return positive_sum, negative_sum\n\ndef get_advanced_accounts_summary(multi_client_transactions, starting_balances):\n    s = \"| %-10s | %10s | %10s | %10s | %-12s |\\n\" % (\"Client\", \"Debits\", \"Credits\", \"Balance\", \"Overdraft?  \")\n    for client in starting_balances.keys():\n        transactions = get_single_client_transactions(multi_client_transactions, client)\n        positive_sum, negative_sum = calculate_sums(transactions)\n        s = s + \"| %-10s | %10d | %10d | %10d | %-12s |\\n\" % (client, negative_sum, positive_sum, get_balance(transactions, starting_balances[client]), has_overdraft_occurred(transactions, starting_balances[client]))\n    return s\n\nprint(get_advanced_accounts_summary(multi_client_transactions, starting_balances))\n\n# | Client     |     Debits |    Credits |    Balance | Overdraft?   |\n# | Ben        |        -10 |         20 |        110 | False        |\n# | Conny      |        -40 |          0 |        -10 | True         |\n# | Mary       |        -20 |         50 |         60 | False        |",
      "metadata": {
        "trusted": true,
        "tags": [],
        "editable": true,
        "slideshow": {
          "slide_type": ""
        }
      },
      "outputs": [
        {
          "name": "stdout",
          "text": "| Client     |     Debits |    Credits |    Balance | Overdraft?   |\n| Ben        |        -10 |         20 |        110 | False        |\n| Conny      |        -40 |          0 |        -10 | True         |\n| Mary       |        -20 |         50 |         60 | False        |\n\n",
          "output_type": "stream"
        }
      ],
      "execution_count": 4
    },
    {
      "cell_type": "markdown",
      "source": "## Test cases\n\nRun the entire notebook to see how well your code runs.",
      "metadata": {
        "tags": [],
        "editable": true,
        "slideshow": {
          "slide_type": ""
        }
      }
    },
    {
      "cell_type": "code",
      "source": "test_results = {}\n\ndef strip(v):\n    if isinstance(v, str):\n        return v.strip()\n    return v\n\ndef test(q):\n    global test_results\n    if q not in test_results:\n        test_results[q] = []\n    def t(fn, expected):\n        r = 0\n        try:\n            if fn() == expected:\n                r = 1\n        finally:\n            test_results[q].append(r)\n    def p():\n        print(\"\".join([\".\" if r == 1 else \"X\" for r in test_results[q]]))\n        print(\"Q%d score: %d%%\" % (q, sum(test_results[q]) / len(test_results[q]) * 100))\n    return (t, p)\n\n(test1, print1) = test(1)\n(test2, print2) = test(2)\n(test3, print3) = test(3)\n\n# Q1\ntest1(lambda: get_balance([], 0), 0)\ntest1(lambda: get_balance([10], 0), 10)\ntest1(lambda: get_balance([10, -5], 0), 5)\ntest1(lambda: get_balance([10, -5], -5), 0)\ntest1(lambda: get_balance([10, -5], -5), 0)\ntest1(lambda: has_overdraft_occurred([], 0), False)\ntest1(lambda: has_overdraft_occurred([], -5), True)\ntest1(lambda: has_overdraft_occurred([10], 0), False)\ntest1(lambda: has_overdraft_occurred([10, -5], 0), False)\ntest1(lambda: has_overdraft_occurred([10, -5], -5), True)\ntest1(lambda: has_overdraft_occurred([-10], 10), False)\n\n# Q2\nmct = [\n    (\"Mary\", \"Ben\", 15),\n    (\"Ben\", \"Mary\", 30),\n    (\"Cindy\", \"Mary\", 25),\n    (\"Ben\", \"Cindy\", 40),\n    (\"Mary\", \"Cindy\", 5)\n]\nsb = {\n    \"Ben\": 70,\n    \"Cindy\": 20,\n    \"Mary\": 250\n}\ntest2(lambda: get_single_client_transactions(mct, \"Ben\"), [15, -30, -40])\ntest2(lambda: get_single_client_transactions(mct, \"Mary\"), [-15, 30, 25, -5])\ntest2(lambda: get_single_client_transactions(mct, \"Cindy\"), [-25, 40, 5])\ntest2(lambda: strip(get_accounts_summary(mct, sb)), \"\"\"| Client     |    Balance | Overdraft?   |\n| Ben        |         15 | False        |\n| Cindy      |         40 | True         |\n| Mary       |        285 | False        |\"\"\")\n\n# Q3\ntest3(lambda: strip(get_advanced_accounts_summary(mct, sb)), \"\"\"| Client     |     Debits |    Credits |    Balance | Overdraft?   |\n| Ben        |        -70 |         15 |         15 | False        |\n| Cindy      |        -25 |         45 |         40 | True         |\n| Mary       |        -20 |         55 |        285 | False        |\"\"\")\n\nprint1()\nprint2()\nprint3()\n\nv = test_results.values()",
      "metadata": {
        "trusted": true,
        "tags": [],
        "editable": false,
        "slideshow": {
          "slide_type": ""
        }
      },
      "outputs": [
        {
          "name": "stdout",
          "text": "......X..X.\nQ1 score: 81%\n....\nQ2 score: 100%\n.\nQ3 score: 100%\n",
          "output_type": "stream"
        }
      ],
      "execution_count": 5
    },
    {
      "cell_type": "code",
      "source": "",
      "metadata": {
        "trusted": true
      },
      "outputs": [],
      "execution_count": null
    },
    {
      "cell_type": "code",
      "source": "",
      "metadata": {
        "trusted": true
      },
      "outputs": [],
      "execution_count": null
    },
    {
      "cell_type": "code",
      "source": "",
      "metadata": {
        "trusted": true
      },
      "outputs": [],
      "execution_count": null
    },
    {
      "cell_type": "code",
      "source": "",
      "metadata": {
        "trusted": true
      },
      "outputs": [],
      "execution_count": null
    },
    {
      "cell_type": "code",
      "source": "",
      "metadata": {
        "trusted": true
      },
      "outputs": [],
      "execution_count": null
    },
    {
      "cell_type": "code",
      "source": "",
      "metadata": {
        "trusted": true
      },
      "outputs": [],
      "execution_count": null
    },
    {
      "cell_type": "code",
      "source": "",
      "metadata": {
        "trusted": true
      },
      "outputs": [],
      "execution_count": null
    }
  ]
}